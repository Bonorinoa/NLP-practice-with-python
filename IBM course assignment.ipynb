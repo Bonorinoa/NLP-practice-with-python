{
    "cells": [
        {
            "metadata": {
                "collapsed": true
            },
            "cell_type": "markdown",
            "source": "# My Jupyter Notebook on IBM Data Science Experience"
        },
        {
            "metadata": {},
            "cell_type": "markdown",
            "source": "**Augusto Gonzalez Bonorino**\n\nI would like to be a data scientist in the field of applied economics."
        },
        {
            "metadata": {},
            "cell_type": "markdown",
            "source": "*I am interested in data science because I believe that there is an incredible potential on this field. I truly believe that a lot of good can be done if proper data science is applied on different disciplines nowadays, beyond the financial sector, maybe in economics to reduce inequality and use data to come up with policies to improve opportunity and income distribution*"
        },
        {
            "metadata": {},
            "cell_type": "markdown",
            "source": "### Simple division on IBM Watson Studio"
        },
        {
            "metadata": {},
            "cell_type": "code",
            "source": "12/6",
            "execution_count": 1,
            "outputs": [
                {
                    "output_type": "display_data",
                    "data": {
                        "text/html": "2",
                        "text/markdown": "2",
                        "text/latex": "2",
                        "text/plain": "[1] 2"
                    },
                    "metadata": {}
                }
            ]
        },
        {
            "metadata": {},
            "cell_type": "markdown",
            "source": "IBM Watson Studio is really nice for the following reasons:\n\n1. Very easy to use\n\n2. And it is FREE!\n\nMoreover, I have learnt so much on this three week course. Now I can do things like creating a table:\n\nThis  |is  |an  |example  |\n------|----|----|---------|\nthis  |is  |a   |table    |\n\nI am very happy with all of what I have been learning,\n\n[almost as happy as these guys](https://media.giphy.com/media/1MTLxzwvOnvmE/giphy.gif)\n"
        }
    ],
    "metadata": {
        "kernelspec": {
            "name": "r-3.6",
            "display_name": "R 3.6",
            "language": "R"
        },
        "language_info": {
            "name": "R",
            "codemirror_mode": "r",
            "pygments_lexer": "r",
            "mimetype": "text/x-r-source",
            "file_extension": ".r",
            "version": "3.6.0"
        }
    },
    "nbformat": 4,
    "nbformat_minor": 1
}